{
 "cells": [
  {
   "cell_type": "code",
   "execution_count": 7,
   "id": "45cd4f9c-03d6-407d-a83d-9ab5db29e241",
   "metadata": {},
   "outputs": [],
   "source": [
    "%load_ext autoreload"
   ]
  },
  {
   "cell_type": "code",
   "execution_count": 8,
   "id": "089153bd-6e5c-4514-9507-2722e288bbde",
   "metadata": {},
   "outputs": [],
   "source": [
    "%autoreload 2"
   ]
  },
  {
   "cell_type": "code",
   "execution_count": 6,
   "id": "04c1284b-7c8a-42e8-84bd-8d7b21ce221d",
   "metadata": {},
   "outputs": [],
   "source": [
    "import warnings\n",
    "import pandas as pd\n",
    "from rapidfuzz import process, fuzz\n",
    "\n",
    "import argparse\n",
    "import sys\n",
    "import os\n",
    "import glob\n",
    "\n",
    "# Add the package's root directory to the sys.path\n",
    "sys.path.insert(0, os.path.abspath(os.path.join(os.path.dirname(os.getcwd()), '../mgeasysim/')))\n",
    "\n"
   ]
  },
  {
   "cell_type": "code",
   "execution_count": null,
   "id": "7967a227-ce5e-41b7-b264-6ca0ea47c1f8",
   "metadata": {},
   "outputs": [],
   "source": []
  },
  {
   "cell_type": "code",
   "execution_count": 2,
   "id": "1fdd142c-b892-49de-bb13-c0a24e518163",
   "metadata": {},
   "outputs": [
    {
     "data": {
      "text/plain": [
       "'/Users/michaelhoffert/Documents/mgeasysim/notebooks'"
      ]
     },
     "execution_count": 2,
     "metadata": {},
     "output_type": "execute_result"
    }
   ],
   "source": [
    "os.getcwd()"
   ]
  },
  {
   "cell_type": "code",
   "execution_count": 4,
   "id": "44160aa1-6a28-4a14-b8fc-18d7fc3f46d7",
   "metadata": {},
   "outputs": [],
   "source": [
    "from mgeasysim.config import config\n"
   ]
  },
  {
   "cell_type": "code",
   "execution_count": 10,
   "id": "5fe9dfc1-50fd-4259-ae0b-5021b0c610a5",
   "metadata": {},
   "outputs": [],
   "source": [
    "GTDB_BASE = config.get('database', 'path')\n",
    "GTDB_MD = glob.glob(f'{GTDB_BASE}*metadata*.tsv') #[0]\n",
    "OUTPUT = config.get('locations', 'output')"
   ]
  },
  {
   "cell_type": "code",
   "execution_count": 11,
   "id": "5b8f0509-6d70-4220-b1fd-488d65796097",
   "metadata": {},
   "outputs": [],
   "source": [
    "GTDB_BASE"
   ]
  },
  {
   "cell_type": "code",
   "execution_count": null,
   "id": "177accab-5043-4e24-b90b-39be25b5ba41",
   "metadata": {},
   "outputs": [],
   "source": []
  }
 ],
 "metadata": {
  "kernelspec": {
   "display_name": "Python 3 (ipykernel)",
   "language": "python",
   "name": "python3"
  },
  "language_info": {
   "codemirror_mode": {
    "name": "ipython",
    "version": 3
   },
   "file_extension": ".py",
   "mimetype": "text/x-python",
   "name": "python",
   "nbconvert_exporter": "python",
   "pygments_lexer": "ipython3",
   "version": "3.13.0"
  }
 },
 "nbformat": 4,
 "nbformat_minor": 5
}
