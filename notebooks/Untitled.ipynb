{
 "cells": [
  {
   "cell_type": "code",
   "execution_count": 2,
   "id": "45cd4f9c-03d6-407d-a83d-9ab5db29e241",
   "metadata": {},
   "outputs": [],
   "source": [
    "%load_ext autoreload"
   ]
  },
  {
   "cell_type": "code",
   "execution_count": 3,
   "id": "089153bd-6e5c-4514-9507-2722e288bbde",
   "metadata": {},
   "outputs": [],
   "source": [
    "%autoreload 2"
   ]
  },
  {
   "cell_type": "code",
   "execution_count": 4,
   "id": "04c1284b-7c8a-42e8-84bd-8d7b21ce221d",
   "metadata": {},
   "outputs": [],
   "source": [
    "import warnings\n",
    "import pandas as pd\n",
    "from rapidfuzz import process, fuzz\n",
    "\n",
    "import argparse\n",
    "import sys\n",
    "import os\n",
    "import glob\n",
    "\n",
    "# Add the package's root directory to the sys.path\n",
    "sys.path.insert(0, os.path.abspath(os.path.join(os.path.dirname(os.getcwd()), '../mgeasysim/')))\n",
    "\n"
   ]
  },
  {
   "cell_type": "code",
   "execution_count": 5,
   "id": "1fdd142c-b892-49de-bb13-c0a24e518163",
   "metadata": {},
   "outputs": [
    {
     "data": {
      "text/plain": [
       "'/Users/michaelhoffert/Documents/mgeasysim/notebooks'"
      ]
     },
     "execution_count": 5,
     "metadata": {},
     "output_type": "execute_result"
    }
   ],
   "source": [
    "os.getcwd()"
   ]
  },
  {
   "cell_type": "code",
   "execution_count": 33,
   "id": "44160aa1-6a28-4a14-b8fc-18d7fc3f46d7",
   "metadata": {},
   "outputs": [
    {
     "name": "stdout",
     "output_type": "stream",
     "text": [
      "{'database': {'gtdb_loc': 'GTDB_r220'}, 'info': {'software': 'mgeasysim'}, 'locations': {'output': 'test_out'}, 'runtime': {'threads': 2}}\n",
      "GTDB_r220\n",
      "GTDB_r220\n",
      "[]\n"
     ]
    },
    {
     "name": "stderr",
     "output_type": "stream",
     "text": [
      "[autoreload of mgeasysim.config failed: Traceback (most recent call last):\n",
      "  File \"/usr/local/Caskroom/miniforge/base/envs/mgeasysim/lib/python3.13/site-packages/IPython/extensions/autoreload.py\", line 276, in check\n",
      "    superreload(m, reload, self.old_objects)\n",
      "    ~~~~~~~~~~~^^^^^^^^^^^^^^^^^^^^^^^^^^^^^\n",
      "  File \"/usr/local/Caskroom/miniforge/base/envs/mgeasysim/lib/python3.13/site-packages/IPython/extensions/autoreload.py\", line 475, in superreload\n",
      "    module = reload(module)\n",
      "  File \"/usr/local/Caskroom/miniforge/base/envs/mgeasysim/lib/python3.13/importlib/__init__.py\", line 129, in reload\n",
      "    _bootstrap._exec(spec, module)\n",
      "    ~~~~~~~~~~~~~~~~^^^^^^^^^^^^^^\n",
      "  File \"<frozen importlib._bootstrap>\", line 866, in _exec\n",
      "  File \"<frozen importlib._bootstrap_external>\", line 1022, in exec_module\n",
      "  File \"<frozen importlib._bootstrap>\", line 488, in _call_with_frames_removed\n",
      "  File \"/Users/michaelhoffert/Documents/mgeasysim/mgeasysim/config.py\", line 55, in <module>\n",
      "    GTDB_MD = glob.glob(f'{GTDB_BASE}/*metadata*.tsv')[0]\n",
      "              ~~~~~~~~~~~~~~~~~~~~~~~~~~~~~~~~~~~~~~~~^^^\n",
      "IndexError: list index out of range\n",
      "]\n"
     ]
    }
   ],
   "source": [
    "from mgeasysim.config import config\n"
   ]
  },
  {
   "cell_type": "code",
   "execution_count": 25,
   "id": "25237afd-9f68-4308-ac48-0c158da66f06",
   "metadata": {},
   "outputs": [
    {
     "ename": "AttributeError",
     "evalue": "'Config' object has no attribute 'GTDB_BASE'",
     "output_type": "error",
     "traceback": [
      "\u001b[0;31m---------------------------------------------------------------------------\u001b[0m",
      "\u001b[0;31mAttributeError\u001b[0m                            Traceback (most recent call last)",
      "Cell \u001b[0;32mIn[25], line 1\u001b[0m\n\u001b[0;32m----> 1\u001b[0m \u001b[43mconfig\u001b[49m\u001b[38;5;241;43m.\u001b[39;49m\u001b[43mGTDB_BASE\u001b[49m\n",
      "\u001b[0;31mAttributeError\u001b[0m: 'Config' object has no attribute 'GTDB_BASE'"
     ]
    }
   ],
   "source": [
    "config.GTDB_BASE"
   ]
  },
  {
   "cell_type": "code",
   "execution_count": 22,
   "id": "39a5e4b8-f24a-4fcb-9234-3c474ab30b5a",
   "metadata": {},
   "outputs": [
    {
     "name": "stdout",
     "output_type": "stream",
     "text": [
      "{'database': {'gtdb_loc': 'GTDB_r220'}, 'info': {'software': 'mgeasysim'}, 'locations': {'output': 'test_out'}, 'runtime': {'threads': 2}}\n",
      "None\n"
     ]
    }
   ],
   "source": [
    "from mgeasysim import config as cf"
   ]
  },
  {
   "cell_type": "code",
   "execution_count": 28,
   "id": "47a98984-d94e-4905-b9f3-7da4afc4a9cf",
   "metadata": {},
   "outputs": [
    {
     "data": {
      "text/plain": [
       "{'gtdb_loc': 'GTDB_r220'}"
      ]
     },
     "execution_count": 28,
     "metadata": {},
     "output_type": "execute_result"
    }
   ],
   "source": []
  },
  {
   "cell_type": "code",
   "execution_count": 23,
   "id": "c4727c50-6fd9-44e3-b03f-8c4b5446b180",
   "metadata": {},
   "outputs": [
    {
     "name": "stdout",
     "output_type": "stream",
     "text": [
      "None\n"
     ]
    }
   ],
   "source": [
    "print(cf.GTDB_BASE)"
   ]
  },
  {
   "cell_type": "code",
   "execution_count": 14,
   "id": "3910b1dd-61b0-4854-9380-6a35a492b934",
   "metadata": {},
   "outputs": [
    {
     "data": {
      "text/plain": [
       "'test'"
      ]
     },
     "execution_count": 14,
     "metadata": {},
     "output_type": "execute_result"
    }
   ],
   "source": [
    "globals.DB_LOC"
   ]
  },
  {
   "cell_type": "code",
   "execution_count": 10,
   "id": "5fe9dfc1-50fd-4259-ae0b-5021b0c610a5",
   "metadata": {},
   "outputs": [],
   "source": [
    "GTDB_BASE = config.get('database', 'path')\n",
    "GTDB_MD = glob.glob(f'{GTDB_BASE}*metadata*.tsv') #[0]\n",
    "OUTPUT = config.get('locations', 'output')"
   ]
  },
  {
   "cell_type": "code",
   "execution_count": 12,
   "id": "5b8f0509-6d70-4220-b1fd-488d65796097",
   "metadata": {},
   "outputs": [],
   "source": [
    "from mgeasysim.community import *"
   ]
  },
  {
   "cell_type": "code",
   "execution_count": 14,
   "id": "9c906064-1367-4835-a517-8af3164a00c9",
   "metadata": {},
   "outputs": [
    {
     "ename": "NameError",
     "evalue": "name 'GTDB_MD' is not defined",
     "output_type": "error",
     "traceback": [
      "\u001b[0;31m---------------------------------------------------------------------------\u001b[0m",
      "\u001b[0;31mNameError\u001b[0m                                 Traceback (most recent call last)",
      "Cell \u001b[0;32mIn[14], line 1\u001b[0m\n\u001b[0;32m----> 1\u001b[0m \u001b[43mget_matching_gtdb\u001b[49m\u001b[43m(\u001b[49m\u001b[38;5;124;43m'\u001b[39;49m\u001b[38;5;124;43m~/Down/Users/michaelhoffert/Downloads/refs.tsv\u001b[39;49m\u001b[38;5;124;43m'\u001b[39;49m\u001b[43m)\u001b[49m\n",
      "File \u001b[0;32m~/Documents/mgeasysim/mgeasysim/community.py:32\u001b[0m, in \u001b[0;36mget_matching_gtdb\u001b[0;34m(taxfile, search_col)\u001b[0m\n\u001b[1;32m     26\u001b[0m \u001b[38;5;28;01mdef\u001b[39;00m \u001b[38;5;21mget_matching_gtdb\u001b[39m(taxfile, search_col\u001b[38;5;241m=\u001b[39m\u001b[38;5;124m'\u001b[39m\u001b[38;5;124mspecies\u001b[39m\u001b[38;5;124m'\u001b[39m):\n\u001b[1;32m     27\u001b[0m \u001b[38;5;250m    \u001b[39m\u001b[38;5;124;03m\"\"\"_summary_\u001b[39;00m\n\u001b[1;32m     28\u001b[0m \u001b[38;5;124;03m    taxfile: a file containing your list of desired taxa for the simulation\u001b[39;00m\n\u001b[1;32m     29\u001b[0m \u001b[38;5;124;03m    search_col: the column to search for matches: species is a special key \u001b[39;00m\n\u001b[1;32m     30\u001b[0m \u001b[38;5;124;03m    that will search on the last field in the \"Gtdb_taxonomy\" column\u001b[39;00m\n\u001b[1;32m     31\u001b[0m \u001b[38;5;124;03m    \"\"\"\u001b[39;00m\n\u001b[0;32m---> 32\u001b[0m     gtdb_md \u001b[38;5;241m=\u001b[39m pd\u001b[38;5;241m.\u001b[39mread_csv(\u001b[43mGTDB_MD\u001b[49m, sep\u001b[38;5;241m=\u001b[39m\u001b[38;5;124m'\u001b[39m\u001b[38;5;130;01m\\t\u001b[39;00m\u001b[38;5;124m'\u001b[39m, index_col\u001b[38;5;241m=\u001b[39m\u001b[38;5;124m'\u001b[39m\u001b[38;5;124maccession\u001b[39m\u001b[38;5;124m'\u001b[39m)\n\u001b[1;32m     33\u001b[0m     gtdb_md_rep \u001b[38;5;241m=\u001b[39m gtdb_md[gtdb_md\u001b[38;5;241m.\u001b[39mgtdb_representative\u001b[38;5;241m.\u001b[39meq(\u001b[38;5;124m'\u001b[39m\u001b[38;5;124mt\u001b[39m\u001b[38;5;124m'\u001b[39m)]\n\u001b[1;32m     34\u001b[0m     acc2genbank \u001b[38;5;241m=\u001b[39m gtdb_md\u001b[38;5;241m.\u001b[39mset_index(\u001b[38;5;124m'\u001b[39m\u001b[38;5;124maccession\u001b[39m\u001b[38;5;124m'\u001b[39m)[\u001b[38;5;124m'\u001b[39m\u001b[38;5;124mncbi_genbank_assembly_accession\u001b[39m\u001b[38;5;124m'\u001b[39m]\n",
      "\u001b[0;31mNameError\u001b[0m: name 'GTDB_MD' is not defined"
     ]
    }
   ],
   "source": [
    "get_matching_gtdb('~/Down/Users/michaelhoffert/Downloads/refs.tsv')"
   ]
  },
  {
   "cell_type": "code",
   "execution_count": null,
   "id": "177accab-5043-4e24-b90b-39be25b5ba41",
   "metadata": {},
   "outputs": [],
   "source": []
  }
 ],
 "metadata": {
  "kernelspec": {
   "display_name": "Python 3 (ipykernel)",
   "language": "python",
   "name": "python3"
  },
  "language_info": {
   "codemirror_mode": {
    "name": "ipython",
    "version": 3
   },
   "file_extension": ".py",
   "mimetype": "text/x-python",
   "name": "python",
   "nbconvert_exporter": "python",
   "pygments_lexer": "ipython3",
   "version": "3.13.0"
  }
 },
 "nbformat": 4,
 "nbformat_minor": 5
}
